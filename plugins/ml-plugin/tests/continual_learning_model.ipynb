{
 "cells": [
  {
   "cell_type": "markdown",
   "metadata": {},
   "source": [
    "### Use Antagonist to train a symptom detection model "
   ]
  },
  {
   "cell_type": "markdown",
   "metadata": {},
   "source": [
    "#### Reproducibility"
   ]
  },
  {
   "cell_type": "code",
   "execution_count": 3,
   "metadata": {},
   "outputs": [],
   "source": [
    "# Torch\n",
    "import torch\n",
    "torch.manual_seed(0)\n",
    "torch.use_deterministic_algorithms(True)\n",
    "\n",
    "# Python\n",
    "import random\n",
    "random.seed(0)\n",
    "\n",
    "# Numpy\n",
    "import numpy as np\n",
    "np.random.seed(0)"
   ]
  },
  {
   "cell_type": "markdown",
   "metadata": {},
   "source": [
    "#### Dataset preparation\n",
    "\n",
    "Note: the dataset needs to be downloaded using the script `download_SMD_dataset.sh` in the `scripts/antagonist-ml` folder."
   ]
  },
  {
   "cell_type": "code",
   "execution_count": 4,
   "metadata": {},
   "outputs": [],
   "source": [
    "from utils import SMD"
   ]
  },
  {
   "cell_type": "code",
   "execution_count": 5,
   "metadata": {},
   "outputs": [],
   "source": [
    "db = SMD(dataset_folder=r\"D:\\antagonist\\data\\ServerMachineDataset\")"
   ]
  },
  {
   "cell_type": "code",
   "execution_count": 6,
   "metadata": {},
   "outputs": [],
   "source": [
    "dataframes_train, _ = db.read_dataset(group_name=\"Group 1\", train=True, retrieve_labels=True)\n",
    "dataframes, files = db.read_dataset(group_name=\"Group 1\", train=False, retrieve_labels=True)\n"
   ]
  },
  {
   "cell_type": "code",
   "execution_count": 7,
   "metadata": {},
   "outputs": [],
   "source": [
    "service_idx = 0\n",
    "df,service_id = dataframes[service_idx], files[service_idx]\n",
    "df,labels = df[df.columns[:-2].tolist()+['timestamp']], df[['label']]\n",
    "df_train = dataframes_train[service_idx]\n",
    "df_train = df_train[df_train.columns[:-1].tolist()+['timestamp']]"
   ]
  },
  {
   "cell_type": "code",
   "execution_count": 8,
   "metadata": {},
   "outputs": [],
   "source": [
    "network_incidents = db.get_interpretation_labels(service_id)"
   ]
  },
  {
   "cell_type": "markdown",
   "metadata": {},
   "source": [
    "#### Train model utils"
   ]
  },
  {
   "cell_type": "code",
   "execution_count": 9,
   "metadata": {},
   "outputs": [],
   "source": [
    "import pandas as pd\n",
    "from auto_encoder import Vanilla_AE\n",
    "from sklearn.preprocessing import StandardScaler\n",
    "from sklearn.metrics import f1_score"
   ]
  },
  {
   "cell_type": "code",
   "execution_count": 10,
   "metadata": {},
   "outputs": [],
   "source": [
    "n_inputs = df.shape[1] - 1\n",
    "layer_sizes = [8, 4, 2]\n",
    "lr = 0.005\n",
    "batch_size = 32\n",
    "epochs = 40\n",
    "validation_split = 0.2\n",
    "early_stopping = True\n",
    "patience = 3\n",
    "Q = 0.99  # residual cut"
   ]
  },
  {
   "cell_type": "code",
   "execution_count": 11,
   "metadata": {},
   "outputs": [],
   "source": [
    "def train_model(df: pd.DataFrame):\n",
    "    ae = Vanilla_AE(n_inputs=n_inputs, layer_sizes=layer_sizes)\n",
    "\n",
    "    # Get data but the timestamp\n",
    "    X_train = df.values[:, :-1]\n",
    "\n",
    "    # scaler init and fitting\n",
    "    scaler = StandardScaler()\n",
    "    X_train_scaled = scaler.fit_transform(X_train)\n",
    "\n",
    "    # model fitting\n",
    "    ae.fit(\n",
    "        X_train_scaled,\n",
    "        early_stopping=early_stopping,\n",
    "        validation_split=validation_split,\n",
    "        epochs=epochs,\n",
    "        lr=lr,\n",
    "        batch_size=batch_size,\n",
    "        verbose=0,\n",
    "        shuffle=True,\n",
    "        patience=patience,\n",
    "        delta=0.001,\n",
    "    )\n",
    "\n",
    "    # results predicting\n",
    "    residuals_train = (\n",
    "        pd.DataFrame(X_train_scaled - ae.predict(X_train_scaled)).abs()\n",
    "    )\n",
    "    threshold = residuals_train.quantile(Q,axis=0) * 5 / 2\n",
    "\n",
    "    return scaler, ae, threshold "
   ]
  },
  {
   "cell_type": "code",
   "execution_count": 12,
   "metadata": {},
   "outputs": [],
   "source": [
    "def find_consecutive_true_np(arr):\n",
    "    result = []\n",
    "    for i in range(arr.shape[1]):\n",
    "        s = arr[:, i]\n",
    "        m = np.r_[False, s, False]\n",
    "        idx = np.flatnonzero(m[1:] != m[:-1])\n",
    "        result.append(list(zip(idx[::2], idx[1::2])) )\n",
    "    return result\n",
    "\n",
    "def predict(df, scaler, ae, threshold, aggregate=False ):\n",
    "\n",
    "    X_hat = scaler.transform(df.values[:,:-1])\n",
    "    residuals_full_df = X_hat - ae.predict(X_hat)\n",
    "    residuals_full_df = pd.DataFrame(residuals_full_df).abs()\n",
    "    \n",
    "    symptoms = (residuals_full_df > threshold).values\n",
    "\n",
    "    return symptoms.any(axis=1) if aggregate else symptoms"
   ]
  },
  {
   "cell_type": "code",
   "execution_count": 13,
   "metadata": {},
   "outputs": [],
   "source": [
    "def eval_model(df, labels,  scaler, ae, threshold ):\n",
    "\n",
    "    X_hat = scaler.transform(df.values[:,:-1])\n",
    "    residuals_full_df = X_hat - ae.predict(X_hat)\n",
    "    residuals_full_df = pd.DataFrame(residuals_full_df).abs()\n",
    "    residuals_full_df['outlier'] = (residuals_full_df > threshold).any(axis=1).astype(int).values\n",
    "\n",
    "    return f1_score(labels['label'].values,residuals_full_df['outlier'].values, average='binary')"
   ]
  },
  {
   "cell_type": "markdown",
   "metadata": {},
   "source": [
    "#### Iterative process simulation\n",
    "\n",
    "Every day the model is retrained with the new data and new labels"
   ]
  },
  {
   "cell_type": "code",
   "execution_count": 14,
   "metadata": {},
   "outputs": [],
   "source": [
    "import datetime\n",
    "from collections import defaultdict"
   ]
  },
  {
   "cell_type": "code",
   "execution_count": 15,
   "metadata": {},
   "outputs": [],
   "source": [
    "start_date = datetime.datetime.fromtimestamp(df['timestamp'].astype('int64').min()/10**9)\n",
    "end_date = datetime.datetime.fromtimestamp(df['timestamp'].dt.ceil('D').astype('int64').max()/10**9)"
   ]
  },
  {
   "cell_type": "code",
   "execution_count": 16,
   "metadata": {},
   "outputs": [
    {
     "name": "stdout",
     "output_type": "stream",
     "text": [
      "Early stopping at epoch 7\n"
     ]
    }
   ],
   "source": [
    "scaler, ae, threshold = None, None, None\n",
    "previous_day = None\n",
    "\n",
    "symptoms_predictions = dict()\n",
    "\n",
    "for current_day in pd.date_range(start=start_date, end=end_date, freq=\"D\"):\n",
    "    current_day = datetime.datetime.fromtimestamp(current_day.timestamp())\n",
    "    df_today = df.loc[df[\"timestamp\"] < current_day.ctime()]\n",
    "\n",
    "    if df_today.shape[0] == 0:\n",
    "        # first day\n",
    "        continue\n",
    "\n",
    "    # Predict symptoms for the current day\n",
    "    if scaler is not None and previous_day is not None:\n",
    "        df_pred = df.loc[\n",
    "            (df[\"timestamp\"] >= previous_day.ctime())\n",
    "            & (df[\"timestamp\"] < current_day.ctime())\n",
    "        ]\n",
    "        y_pred = predict(df_pred, scaler, ae, threshold, aggregate=False)\n",
    "\n",
    "        intervals = find_consecutive_true_np(y_pred)\n",
    "        for metric_id, symptoms in enumerate(intervals):\n",
    "            if len(symptoms) > 0:\n",
    "                symptoms_predictions[current_day] = defaultdict(list)\n",
    "            for symp in symptoms:\n",
    "                symptoms_predictions[current_day][metric_id].append(\n",
    "                    [\n",
    "                        df_pred[\"timestamp\"].iloc[symp[0]].timestamp(),\n",
    "                        df_pred[\"timestamp\"].iloc[symp[1] - 1].timestamp(),\n",
    "                    ]\n",
    "                )\n",
    "\n",
    "        break\n",
    "\n",
    "    # Retrain the model on the available data removing anomalies (simulating human validation)\n",
    "    mask_train = labels[: df_today.shape[0]][\"label\"] == 0\n",
    "    df_today = pd.concat([df_train, df_today[mask_train]], ignore_index=True)\n",
    "    scaler, ae, threshold = train_model(df_today)\n",
    "    previous_day = current_day"
   ]
  },
  {
   "cell_type": "code",
   "execution_count": 17,
   "metadata": {},
   "outputs": [
    {
     "name": "stdout",
     "output_type": "stream",
     "text": [
      "F1 score: 0.2942\n"
     ]
    }
   ],
   "source": [
    "# Evaluation on the overall test set\n",
    "f1 = eval_model(df, labels, scaler, ae, threshold)\n",
    "print(f\"F1 score: {round(f1,4)}\")"
   ]
  },
  {
   "cell_type": "markdown",
   "metadata": {},
   "source": [
    "### Convert to objects"
   ]
  },
  {
   "cell_type": "code",
   "execution_count": 18,
   "metadata": {},
   "outputs": [
    {
     "name": "stdout",
     "output_type": "stream",
     "text": [
      "2020-01-03\n"
     ]
    }
   ],
   "source": [
    "# Aggregate symptoms in network incidents according to the OR rule\n",
    "incidents_predictions = {}\n",
    "for model_date, symptoms in symptoms_predictions.items():\n",
    "    print(model_date.strftime('%Y-%m-%d'))\n",
    "\n",
    "    # aggregate overlapping symptoms coming from different metrics\n",
    "    day_symptoms = [\n",
    "        (metric_id, symptom[0], symptom[1]) for metric_id, symptoms_list in symptoms.items() for symptom in symptoms_list \n",
    "    ]\n",
    "\n",
    "    # sort by starting timestamp\n",
    "    day_symptoms.sort(key=lambda x: x[1])\n",
    "\n",
    "    if len(day_symptoms) == 0:\n",
    "        continue\n",
    "\n",
    "\n",
    "    # create a list of incident in the form [(start_timestamp, end_timestamp, [symptom1, symptom2]),...]\n",
    "    start = day_symptoms[0][1] \n",
    "    end = day_symptoms[0][2]\n",
    "    network_incidents = [(start, end, [day_symptoms[0]])]\n",
    "    for symptom in day_symptoms[1:]:\n",
    "        # if overlapping add to the current incident, new incident otherwise\n",
    "        if symptom[1] <= end:\n",
    "            network_incidents[-1][2].append(symptom)\n",
    "            end = max(end, symptom[2])\n",
    "            network_incidents[-1][1] = end\n",
    "        else:\n",
    "            start = symptom[1]\n",
    "            end = symptom[2]\n",
    "            network_incidents.append((start, end, [symptom]))\n",
    "\n",
    "    incidents_predictions[model_date] = network_incidents"
   ]
  },
  {
   "cell_type": "code",
   "execution_count": 20,
   "metadata": {},
   "outputs": [],
   "source": [
    "import sys \n",
    "sys.path.append(\"..\")\n",
    "from antagonist_ml.service import store_network_anomalies_labels, store_network_symptom_labels"
   ]
  },
  {
   "cell_type": "code",
   "execution_count": 21,
   "metadata": {},
   "outputs": [
    {
     "name": "stdout",
     "output_type": "stream",
     "text": [
      "{\"author\": {\"author_type\": \"algorithm\", \"name\": \"ae_continual_learning\", \"version\": 1578009600}, \"description\": \"2020-01-03\", \"start\": \"2020-01-02T00:45:00\", \"end\": \"2020-01-02T00:46:00\", \"id\": \"aaabe381-4b4f-4f02-94bc-ba683ccca5f6\", \"state\": \"incident-potential\", \"version\": 1}\n",
      "{\"confidence-score\": 1.0, \"description\": 33, \"start-time\": \"2020-01-02T00:45:00\", \"end-time\": \"2020-01-02T00:46:00\", \"event-id\": \"cf6b733c-7cc1-400b-895d-dda3c2ff2849\", \"id\": \"fa9f7969-072e-4baa-966d-71ebab1cfc42\", \"source-name\": \"ae_continual_learning_1578009600\", \"source-type\": \"algorithm\", \"tags\": {\"machine\": \"machine-1-1.txt\", \"metric_id\": 33}}\n",
      "{\"symptom-id\": \"fa9f7969-072e-4baa-966d-71ebab1cfc42\", \"incident-id\": \"aaabe381-4b4f-4f02-94bc-ba683ccca5f6\"}\n",
      "{\"author\": {\"author_type\": \"algorithm\", \"name\": \"ae_continual_learning\", \"version\": 1578009600}, \"description\": \"2020-01-03\", \"start\": \"2020-01-02T00:50:00\", \"end\": \"2020-01-02T00:50:00\", \"id\": \"f2d1b180-dc79-4346-b844-161edfafb48b\", \"state\": \"incident-potential\", \"version\": 1}\n",
      "{\"confidence-score\": 1.0, \"description\": 33, \"start-time\": \"2020-01-02T00:50:00\", \"end-time\": \"2020-01-02T00:50:00\", \"event-id\": \"952e6f7c-b7f3-4346-b550-fd5f6a854c85\", \"id\": \"77116af1-3382-435e-b0df-00b47abaec39\", \"source-name\": \"ae_continual_learning_1578009600\", \"source-type\": \"algorithm\", \"tags\": {\"machine\": \"machine-1-1.txt\", \"metric_id\": 33}}\n",
      "{\"symptom-id\": \"77116af1-3382-435e-b0df-00b47abaec39\", \"incident-id\": \"f2d1b180-dc79-4346-b844-161edfafb48b\"}\n",
      "{\"author\": {\"author_type\": \"algorithm\", \"name\": \"ae_continual_learning\", \"version\": 1578009600}, \"description\": \"2020-01-03\", \"start\": \"2020-01-02T01:24:00\", \"end\": \"2020-01-02T01:24:00\", \"id\": \"14fd12f0-a07e-4fe9-be0a-7316a52249ac\", \"state\": \"incident-potential\", \"version\": 1}\n",
      "{\"confidence-score\": 1.0, \"description\": 33, \"start-time\": \"2020-01-02T01:24:00\", \"end-time\": \"2020-01-02T01:24:00\", \"event-id\": \"aa6fb658-4c54-4d86-974c-d2812bcf3e7f\", \"id\": \"df7e662f-d398-4293-b17a-ad1804218786\", \"source-name\": \"ae_continual_learning_1578009600\", \"source-type\": \"algorithm\", \"tags\": {\"machine\": \"machine-1-1.txt\", \"metric_id\": 33}}\n",
      "{\"symptom-id\": \"df7e662f-d398-4293-b17a-ad1804218786\", \"incident-id\": \"14fd12f0-a07e-4fe9-be0a-7316a52249ac\"}\n",
      "{\"author\": {\"author_type\": \"algorithm\", \"name\": \"ae_continual_learning\", \"version\": 1578009600}, \"description\": \"2020-01-03\", \"start\": \"2020-01-02T04:14:00\", \"end\": \"2020-01-02T04:14:00\", \"id\": \"0c116a33-d76f-463e-be26-2f2af67f0ab7\", \"state\": \"incident-potential\", \"version\": 1}\n",
      "{\"confidence-score\": 1.0, \"description\": 33, \"start-time\": \"2020-01-02T04:14:00\", \"end-time\": \"2020-01-02T04:14:00\", \"event-id\": \"b68c9c83-6a01-4282-b5eb-3978d9a8aa14\", \"id\": \"496b5631-3bb3-4a8e-b244-03c7410acec8\", \"source-name\": \"ae_continual_learning_1578009600\", \"source-type\": \"algorithm\", \"tags\": {\"machine\": \"machine-1-1.txt\", \"metric_id\": 33}}\n",
      "{\"symptom-id\": \"496b5631-3bb3-4a8e-b244-03c7410acec8\", \"incident-id\": \"0c116a33-d76f-463e-be26-2f2af67f0ab7\"}\n",
      "{\"author\": {\"author_type\": \"algorithm\", \"name\": \"ae_continual_learning\", \"version\": 1578009600}, \"description\": \"2020-01-03\", \"start\": \"2020-01-02T04:16:00\", \"end\": \"2020-01-02T04:16:00\", \"id\": \"30a56589-f225-4693-9686-749cc3ac41b4\", \"state\": \"incident-potential\", \"version\": 1}\n",
      "{\"confidence-score\": 1.0, \"description\": 33, \"start-time\": \"2020-01-02T04:16:00\", \"end-time\": \"2020-01-02T04:16:00\", \"event-id\": \"b30556ad-4293-4ab2-8bd9-3b20c67f2125\", \"id\": \"124cb5f2-c4e4-4618-b306-b43fae45ff57\", \"source-name\": \"ae_continual_learning_1578009600\", \"source-type\": \"algorithm\", \"tags\": {\"machine\": \"machine-1-1.txt\", \"metric_id\": 33}}\n",
      "{\"symptom-id\": \"124cb5f2-c4e4-4618-b306-b43fae45ff57\", \"incident-id\": \"30a56589-f225-4693-9686-749cc3ac41b4\"}\n"
     ]
    }
   ],
   "source": [
    "for model_date, network_incidents in incidents_predictions.items():\n",
    "    for network_incident in network_incidents:\n",
    "\n",
    "        ni_uuid = store_network_anomalies_labels(\n",
    "            author_name=\"ae_continual_learning\",\n",
    "            author_type=\"algorithm\",\n",
    "            author_version=int(model_date.timestamp()),\n",
    "            description=model_date.strftime(\"%Y-%m-%d\"),\n",
    "            start=network_incident[0],\n",
    "            end=network_incident[1],\n",
    "            state=\"incident-potential\",\n",
    "            version=1\n",
    "        )\n",
    "\n",
    "\n",
    "        for symptom in network_incident[2]:\n",
    "            store_network_symptom_labels(\n",
    "                author_name=\"ae_continual_learning\",\n",
    "                author_type=\"algorithm\",\n",
    "                author_version=int(model_date.timestamp()),\n",
    "                confidence=1.0,\n",
    "                description=symptom[0],\n",
    "                start=symptom[1],\n",
    "                end=symptom[2],\n",
    "                version=1,\n",
    "                tags={\n",
    "                    \"machine\":service_id,\n",
    "                    \"metric_id\":symptom[0]\n",
    "                },\n",
    "                network_anomaly_uuid=ni_uuid\n",
    "            )"
   ]
  }
 ],
 "metadata": {
  "kernelspec": {
   "display_name": "Python 3",
   "language": "python",
   "name": "python3"
  },
  "language_info": {
   "codemirror_mode": {
    "name": "ipython",
    "version": 3
   },
   "file_extension": ".py",
   "mimetype": "text/x-python",
   "name": "python",
   "nbconvert_exporter": "python",
   "pygments_lexer": "ipython3",
   "version": "3.12.3"
  }
 },
 "nbformat": 4,
 "nbformat_minor": 2
}
