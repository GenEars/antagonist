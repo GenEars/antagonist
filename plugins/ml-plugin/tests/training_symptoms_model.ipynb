{
 "cells": [
  {
   "cell_type": "markdown",
   "metadata": {},
   "source": [
    "### Use Antagonist to train a symptom detection model "
   ]
  },
  {
   "cell_type": "markdown",
   "metadata": {},
   "source": [
    "#### Reproducibility"
   ]
  },
  {
   "cell_type": "code",
   "execution_count": null,
   "metadata": {},
   "outputs": [],
   "source": [
    "# Torch\n",
    "import torch\n",
    "torch.manual_seed(0)\n",
    "torch.use_deterministic_algorithms(True)\n",
    "\n",
    "# Python\n",
    "import random\n",
    "random.seed(0)\n",
    "\n",
    "# Numpy\n",
    "import numpy as np\n",
    "np.random.seed(0)"
   ]
  },
  {
   "cell_type": "markdown",
   "metadata": {},
   "source": [
    "#### Dataset preparation\n",
    "\n",
    "Note: the dataset needs to be downloaded using the script `download_SMD_dataset.sh` in the `scripts/antagonist-ml` folder."
   ]
  },
  {
   "cell_type": "code",
   "execution_count": null,
   "metadata": {},
   "outputs": [],
   "source": [
    "from data_utils import SMD"
   ]
  },
  {
   "cell_type": "code",
   "execution_count": null,
   "metadata": {},
   "outputs": [],
   "source": [
    "db = SMD(dataset_folder=r\"D:\\antagonist\\data\\ServerMachineDataset\")"
   ]
  },
  {
   "cell_type": "code",
   "execution_count": null,
   "metadata": {},
   "outputs": [],
   "source": [
    "dataframes, files = db.read_dataset(group_name=\"Group 1\", train=False, retrieve_labels=True)\n"
   ]
  },
  {
   "cell_type": "code",
   "execution_count": null,
   "metadata": {},
   "outputs": [],
   "source": [
    "service_idx = 0\n",
    "df,service_id = dataframes[service_idx], files[service_idx]\n",
    "df,labels = df[df.columns[:-2].tolist()+['timestamp']], df[['label']]"
   ]
  },
  {
   "cell_type": "code",
   "execution_count": null,
   "metadata": {},
   "outputs": [],
   "source": [
    "network_incidents = db.get_interpretation_labels(service_id)"
   ]
  },
  {
   "cell_type": "code",
   "execution_count": null,
   "metadata": {},
   "outputs": [],
   "source": [
    "network_incidents"
   ]
  },
  {
   "cell_type": "markdown",
   "metadata": {},
   "source": [
    "#### Train model utils"
   ]
  },
  {
   "cell_type": "code",
   "execution_count": null,
   "metadata": {},
   "outputs": [],
   "source": [
    "import pandas as pd\n",
    "from auto_encoder import Vanilla_AE\n",
    "from sklearn.preprocessing import StandardScaler\n",
    "from sklearn.metrics import classification_report, f1_score"
   ]
  },
  {
   "cell_type": "code",
   "execution_count": null,
   "metadata": {},
   "outputs": [],
   "source": [
    "n_inputs = df.shape[1] - 1\n",
    "layer_sizes = [8, 4, 2]\n",
    "lr = 0.005\n",
    "batch_size = 32\n",
    "epochs = 40\n",
    "validation_split = 0.2\n",
    "early_stopping = True\n",
    "patience = 3\n",
    "Q = 0.99  # residual cut"
   ]
  },
  {
   "cell_type": "code",
   "execution_count": null,
   "metadata": {},
   "outputs": [],
   "source": [
    "def train_model(df: pd.DataFrame):\n",
    "    ae = Vanilla_AE(n_inputs=n_inputs, layer_sizes=layer_sizes)\n",
    "\n",
    "    # Get data but the timestamp\n",
    "    X_train = df.values[:, :-1]\n",
    "\n",
    "    # scaler init and fitting\n",
    "    scaler = StandardScaler()\n",
    "    X_train_scaled = scaler.fit_transform(X_train)\n",
    "\n",
    "    # model fitting\n",
    "    ae.fit(\n",
    "        X_train_scaled,\n",
    "        early_stopping=early_stopping,\n",
    "        validation_split=validation_split,\n",
    "        epochs=epochs,\n",
    "        lr=lr,\n",
    "        batch_size=batch_size,\n",
    "        verbose=0,\n",
    "        shuffle=True,\n",
    "        patience=patience,\n",
    "        delta=0.001,\n",
    "    )\n",
    "\n",
    "    # results predicting\n",
    "    residuals_train = (\n",
    "        pd.DataFrame(X_train_scaled - ae.predict(X_train_scaled)).abs().sum(axis=1)\n",
    "    )\n",
    "    threshold = residuals_train.quantile(Q) * 5 / 2\n",
    "\n",
    "    return scaler, ae, threshold "
   ]
  },
  {
   "cell_type": "code",
   "execution_count": null,
   "metadata": {},
   "outputs": [],
   "source": [
    "def eval_model(df, labels,  scaler, ae, threshold ):\n",
    "\n",
    "    X_hat = scaler.transform(df.values[:,:-1])\n",
    "    residuals_full_df = X_hat - ae.predict(X_hat)\n",
    "    residuals_full_df = pd.DataFrame(residuals_full_df).abs().sum(axis=1).to_frame()\n",
    "    residuals_full_df['outlier'] = (residuals_full_df > threshold).astype(int).values\n",
    "\n",
    "    return f1_score(labels['label'].values,residuals_full_df['outlier'].values, average='binary')"
   ]
  },
  {
   "cell_type": "markdown",
   "metadata": {},
   "source": [
    "#### Iterative process simulation\n",
    "\n",
    "Every day the model is retrained with the new data and new labels"
   ]
  },
  {
   "cell_type": "code",
   "execution_count": null,
   "metadata": {},
   "outputs": [],
   "source": [
    "import datetime\n"
   ]
  },
  {
   "cell_type": "code",
   "execution_count": null,
   "metadata": {},
   "outputs": [],
   "source": [
    "start_date = datetime.datetime.fromtimestamp(df['timestamp'].astype('int64').min()/10**9)\n",
    "end_date = datetime.datetime.fromtimestamp(df['timestamp'].dt.ceil('D').astype('int64').max()/10**9)"
   ]
  },
  {
   "cell_type": "code",
   "execution_count": null,
   "metadata": {},
   "outputs": [],
   "source": [
    "scaler, ae, threshold = None, None, None\n",
    "for current_day in pd.date_range(start=start_date, end=end_date, freq=\"D\"):\n",
    "    current_day = datetime.datetime.fromtimestamp(current_day.timestamp())\n",
    "    df_today = df.loc[df[\"timestamp\"] < current_day.ctime()]\n",
    "\n",
    "    if df_today.shape[0] == 0:\n",
    "        # first day\n",
    "        continue\n",
    "\n",
    "    if scaler is not None:\n",
    "        f1 = eval_model(df_today, labels[: df_today.shape[0]], scaler, ae, threshold)\n",
    "        print(f\"F1 score from last day: {round(f1,4)}\")\n",
    "    \n",
    "    scaler, ae, threshold = train_model(df_today)\n",
    "        "
   ]
  },
  {
   "cell_type": "code",
   "execution_count": null,
   "metadata": {},
   "outputs": [],
   "source": [
    "f1 = eval_model(df, labels, scaler, ae, threshold)\n",
    "print(f\"F1 score: {round(f1,4)}\")"
   ]
  }
 ],
 "metadata": {
  "kernelspec": {
   "display_name": "Python 3",
   "language": "python",
   "name": "python3"
  },
  "language_info": {
   "codemirror_mode": {
    "name": "ipython",
    "version": 3
   },
   "file_extension": ".py",
   "mimetype": "text/x-python",
   "name": "python",
   "nbconvert_exporter": "python",
   "pygments_lexer": "ipython3",
   "version": "3.12.3"
  }
 },
 "nbformat": 4,
 "nbformat_minor": 2
}
