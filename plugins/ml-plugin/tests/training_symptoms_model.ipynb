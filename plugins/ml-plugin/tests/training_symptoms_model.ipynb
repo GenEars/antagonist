{
 "cells": [
  {
   "cell_type": "markdown",
   "metadata": {},
   "source": [
    "### Use Antagonist to train a symptom detection model "
   ]
  },
  {
   "cell_type": "markdown",
   "metadata": {},
   "source": [
    "#### ToDo\n",
    "\n",
    "- [OK] Change threshold to detect symptoms\n",
    "- Use API from the plugin to get and store labels\n",
    "- [OK] Use training data from a metric in addition to current data\n",
    "- [OK] Remove known anomalies from training data "
   ]
  },
  {
   "cell_type": "markdown",
   "metadata": {},
   "source": [
    "#### Reproducibility"
   ]
  },
  {
   "cell_type": "code",
   "execution_count": 15,
   "metadata": {},
   "outputs": [],
   "source": [
    "# Torch\n",
    "import torch\n",
    "torch.manual_seed(0)\n",
    "torch.use_deterministic_algorithms(True)\n",
    "\n",
    "# Python\n",
    "import random\n",
    "random.seed(0)\n",
    "\n",
    "# Numpy\n",
    "import numpy as np\n",
    "np.random.seed(0)"
   ]
  },
  {
   "cell_type": "markdown",
   "metadata": {},
   "source": [
    "#### Dataset preparation\n",
    "\n",
    "Note: the dataset needs to be downloaded using the script `download_SMD_dataset.sh` in the `scripts/antagonist-ml` folder."
   ]
  },
  {
   "cell_type": "code",
   "execution_count": 16,
   "metadata": {},
   "outputs": [],
   "source": [
    "from data_utils import SMD"
   ]
  },
  {
   "cell_type": "code",
   "execution_count": 17,
   "metadata": {},
   "outputs": [],
   "source": [
    "db = SMD(dataset_folder=r\"D:\\antagonist\\data\\ServerMachineDataset\")"
   ]
  },
  {
   "cell_type": "code",
   "execution_count": 18,
   "metadata": {},
   "outputs": [],
   "source": [
    "dataframes_train, _ = db.read_dataset(group_name=\"Group 1\", train=True, retrieve_labels=True)\n",
    "dataframes, files = db.read_dataset(group_name=\"Group 1\", train=False, retrieve_labels=True)\n"
   ]
  },
  {
   "cell_type": "code",
   "execution_count": 19,
   "metadata": {},
   "outputs": [],
   "source": [
    "service_idx = 0\n",
    "df,service_id = dataframes[service_idx], files[service_idx]\n",
    "df,labels = df[df.columns[:-2].tolist()+['timestamp']], df[['label']]\n",
    "df_train = dataframes_train[service_idx]\n",
    "df_train = df_train[df_train.columns[:-1].tolist()+['timestamp']]"
   ]
  },
  {
   "cell_type": "code",
   "execution_count": 20,
   "metadata": {},
   "outputs": [],
   "source": [
    "network_incidents = db.get_interpretation_labels(service_id)"
   ]
  },
  {
   "cell_type": "markdown",
   "metadata": {},
   "source": [
    "#### Train model utils"
   ]
  },
  {
   "cell_type": "code",
   "execution_count": 21,
   "metadata": {},
   "outputs": [],
   "source": [
    "import pandas as pd\n",
    "from auto_encoder import Vanilla_AE\n",
    "from sklearn.preprocessing import StandardScaler\n",
    "from sklearn.metrics import classification_report, f1_score"
   ]
  },
  {
   "cell_type": "code",
   "execution_count": 22,
   "metadata": {},
   "outputs": [],
   "source": [
    "n_inputs = df.shape[1] - 1\n",
    "layer_sizes = [8, 4, 2]\n",
    "lr = 0.005\n",
    "batch_size = 32\n",
    "epochs = 40\n",
    "validation_split = 0.2\n",
    "early_stopping = True\n",
    "patience = 3\n",
    "Q = 0.99  # residual cut"
   ]
  },
  {
   "cell_type": "code",
   "execution_count": 23,
   "metadata": {},
   "outputs": [],
   "source": [
    "def train_model(df: pd.DataFrame):\n",
    "    ae = Vanilla_AE(n_inputs=n_inputs, layer_sizes=layer_sizes)\n",
    "\n",
    "    # Get data but the timestamp\n",
    "    X_train = df.values[:, :-1]\n",
    "\n",
    "    # scaler init and fitting\n",
    "    scaler = StandardScaler()\n",
    "    X_train_scaled = scaler.fit_transform(X_train)\n",
    "\n",
    "    # model fitting\n",
    "    ae.fit(\n",
    "        X_train_scaled,\n",
    "        early_stopping=early_stopping,\n",
    "        validation_split=validation_split,\n",
    "        epochs=epochs,\n",
    "        lr=lr,\n",
    "        batch_size=batch_size,\n",
    "        verbose=0,\n",
    "        shuffle=True,\n",
    "        patience=patience,\n",
    "        delta=0.001,\n",
    "    )\n",
    "\n",
    "    # results predicting\n",
    "    residuals_train = (\n",
    "        pd.DataFrame(X_train_scaled - ae.predict(X_train_scaled)).abs()\n",
    "    )\n",
    "    threshold = residuals_train.quantile(Q,axis=0) * 5 / 2\n",
    "\n",
    "    return scaler, ae, threshold "
   ]
  },
  {
   "cell_type": "code",
   "execution_count": 24,
   "metadata": {},
   "outputs": [],
   "source": [
    "def find_consecutive_true_np(arr):\n",
    "    result = []\n",
    "    for i in range(arr.shape[1]):\n",
    "        s = arr[:, i]\n",
    "        m = np.r_[False, s, False]\n",
    "        idx = np.flatnonzero(m[1:] != m[:-1])\n",
    "        result.append(list(zip(idx[::2], idx[1::2])) )\n",
    "    return result\n",
    "\n",
    "def predict(df, scaler, ae, threshold, aggregate=False ):\n",
    "\n",
    "    X_hat = scaler.transform(df.values[:,:-1])\n",
    "    residuals_full_df = X_hat - ae.predict(X_hat)\n",
    "    residuals_full_df = pd.DataFrame(residuals_full_df).abs()\n",
    "    \n",
    "    symptoms = (residuals_full_df > threshold).values\n",
    "\n",
    "    return symptoms.any(axis=1) if aggregate else symptoms"
   ]
  },
  {
   "cell_type": "code",
   "execution_count": 25,
   "metadata": {},
   "outputs": [],
   "source": [
    "def eval_model(df, labels,  scaler, ae, threshold ):\n",
    "\n",
    "    X_hat = scaler.transform(df.values[:,:-1])\n",
    "    residuals_full_df = X_hat - ae.predict(X_hat)\n",
    "    residuals_full_df = pd.DataFrame(residuals_full_df).abs()\n",
    "    residuals_full_df['outlier'] = (residuals_full_df > threshold).any(axis=1).astype(int).values\n",
    "\n",
    "    return f1_score(labels['label'].values,residuals_full_df['outlier'].values, average='binary')"
   ]
  },
  {
   "cell_type": "markdown",
   "metadata": {},
   "source": [
    "#### Iterative process simulation\n",
    "\n",
    "Every day the model is retrained with the new data and new labels"
   ]
  },
  {
   "cell_type": "code",
   "execution_count": 26,
   "metadata": {},
   "outputs": [],
   "source": [
    "import datetime\n",
    "from collections import defaultdict"
   ]
  },
  {
   "cell_type": "code",
   "execution_count": 27,
   "metadata": {},
   "outputs": [],
   "source": [
    "start_date = datetime.datetime.fromtimestamp(df['timestamp'].astype('int64').min()/10**9)\n",
    "end_date = datetime.datetime.fromtimestamp(df['timestamp'].dt.ceil('D').astype('int64').max()/10**9)"
   ]
  },
  {
   "cell_type": "code",
   "execution_count": 28,
   "metadata": {},
   "outputs": [
    {
     "name": "stdout",
     "output_type": "stream",
     "text": [
      "Early stopping at epoch 7\n"
     ]
    }
   ],
   "source": [
    "scaler, ae, threshold = None, None, None\n",
    "previous_day = None\n",
    "\n",
    "predictions = defaultdict(list)\n",
    "\n",
    "for current_day in pd.date_range(start=start_date, end=end_date, freq=\"D\"):\n",
    "    current_day = datetime.datetime.fromtimestamp(current_day.timestamp())\n",
    "    df_today = df.loc[df[\"timestamp\"] < current_day.ctime()]\n",
    "\n",
    "    if df_today.shape[0] == 0:\n",
    "        # first day\n",
    "        continue\n",
    "\n",
    "    # Predict symptoms for the current day\n",
    "    if scaler is not None and previous_day is not None:\n",
    "        df_pred = df.loc[\n",
    "            (df[\"timestamp\"] >= previous_day.ctime())\n",
    "            & (df[\"timestamp\"] < current_day.ctime())\n",
    "        ]\n",
    "        y_pred = predict(df_pred, scaler, ae, threshold, aggregate=False)\n",
    "\n",
    "        intervals = find_consecutive_true_np(y_pred)\n",
    "        for metric_id, symptoms in enumerate(intervals):\n",
    "            for symp in symptoms:\n",
    "                predictions[metric_id].append(\n",
    "                    [\n",
    "                        df_pred[\"timestamp\"].iloc[symp[0]].timestamp(),\n",
    "                        df_pred[\"timestamp\"].iloc[symp[1] - 1].timestamp(),\n",
    "                    ]\n",
    "                )\n",
    "\n",
    "    # Retrain the model on the available data removing anomalies (simulating human validation)\n",
    "    mask_train = labels[: df_today.shape[0]][\"label\"] == 0\n",
    "    df_today = pd.concat([df_train, df_today[mask_train]], ignore_index=True)\n",
    "    scaler, ae, threshold = train_model(df_today)\n",
    "    previous_day = current_day"
   ]
  },
  {
   "cell_type": "code",
   "execution_count": 29,
   "metadata": {},
   "outputs": [
    {
     "name": "stdout",
     "output_type": "stream",
     "text": [
      "F1 score: 0.2942\n"
     ]
    }
   ],
   "source": [
    "# Evaluation on the overall test set\n",
    "f1 = eval_model(df, labels, scaler, ae, threshold)\n",
    "print(f\"F1 score: {round(f1,4)}\")"
   ]
  },
  {
   "cell_type": "code",
   "execution_count": 32,
   "metadata": {},
   "outputs": [
    {
     "data": {
      "text/plain": [
       "[[1577942040.0, 1577942040.0], [1577959500.0, 1577959500.0]]"
      ]
     },
     "execution_count": 32,
     "metadata": {},
     "output_type": "execute_result"
    }
   ],
   "source": [
    "# Store symptoms\n",
    "predictions[9]"
   ]
  }
 ],
 "metadata": {
  "kernelspec": {
   "display_name": "Python 3",
   "language": "python",
   "name": "python3"
  },
  "language_info": {
   "codemirror_mode": {
    "name": "ipython",
    "version": 3
   },
   "file_extension": ".py",
   "mimetype": "text/x-python",
   "name": "python",
   "nbconvert_exporter": "python",
   "pygments_lexer": "ipython3",
   "version": "3.12.3"
  }
 },
 "nbformat": 4,
 "nbformat_minor": 2
}
